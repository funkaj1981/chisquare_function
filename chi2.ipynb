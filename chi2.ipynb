{
 "cells": [
  {
   "cell_type": "markdown",
   "metadata": {},
   "source": [
    "# Sample code exploration of the chisquare function from scipy, a Python package:"
   ]
  },
  {
   "cell_type": "markdown",
   "metadata": {},
   "source": [
    "#### Examples are theoretical saccadic latencies, a neuromarker of brain function, used clinically and for research purposes."
   ]
  },
  {
   "cell_type": "markdown",
   "metadata": {},
   "source": [
    "##### The theoretical example is as follows:"
   ]
  },
  {
   "cell_type": "markdown",
   "metadata": {},
   "source": [
    "Patient presents 3 months after traumatic brain injury, still symptomatic. Initial neurological examination and videonystagmography testing (VNG) reveal findings that are out of normal and/or optimal ranges.  "
   ]
  },
  {
   "cell_type": "markdown",
   "metadata": {},
   "source": [
    "Average saccadic latency (ASL) is a marker readily available from VNG testing. Let's say that the patient's ASL of rightward saccades was **240 ms** on initial intake. Neurorehab was initiated, then 1-month post-treatment VNG testing revealed that the patient's ASL had improved to **215 ms**. After another month of treatment, the ASL improved to **197 ms**. After another month, the ASL was found to then be **215 ms** again. "
   ]
  },
  {
   "cell_type": "markdown",
   "metadata": {},
   "source": [
    "#### Are these changes a result of chance, or do the new ASLs have a significant probability of representing a true change in brain function?"
   ]
  },
  {
   "cell_type": "markdown",
   "metadata": {},
   "source": [
    "#### Is the patient truly improving, or are we merely observing normal fluctuations in brain activity?"
   ]
  },
  {
   "cell_type": "markdown",
   "metadata": {},
   "source": [
    "#### We can use scipy's chisquare function to determine the probability of this (through the calculation of a p-value), but first we must establish a few parameters:"
   ]
  },
  {
   "cell_type": "markdown",
   "metadata": {},
   "source": [
    "##### Step 1: Establish our null hypothesis:"
   ]
  },
  {
   "cell_type": "markdown",
   "metadata": {},
   "source": [
    "- Our null hypothesis is that these theoretical saccadic latencies are only different by chance; that they pertain to the same data distribution; and that they represent no actual change in brain function. "
   ]
  },
  {
   "cell_type": "markdown",
   "metadata": {},
   "source": [
    "##### Step 2: Determine our *expected* results: "
   ]
  },
  {
   "cell_type": "markdown",
   "metadata": {},
   "source": [
    "- Our expected result is our initial ASL of rightward saccades that the patient demonstrated on initial intake (**240 ms**).\n",
    "\n",
    "- This is our baseline parameter that the patient evidenced at intake. Since our null hypothesis is that no true change in brain function has taken place over the course of treatment, we will assume that the saccadic latencies will average 240 ms every time they are assessed. \n",
    "\n",
    "- Normal distribution curves inform us that we should not expect *exactly* 240 every time the VNG test is run, but that the ASL will fall within an acceptable range of deviation. Remember that our p-value is the probability that randomly sampling this patient's rightward ASLs would produce latencies that include all the ones that we have observed. So as long as this acceptable deviation is maintained, our null hypothesis will be maintained. \n",
    "\n",
    "- Therefore, we can use our baseline average of **240 ms** as the expected results of every test since any test will always produce an average *around* **240 ms** if our null hypothesis is correct."
   ]
  },
  {
   "cell_type": "markdown",
   "metadata": {},
   "source": [
    "##### Step 3: Determine our *observed* results:"
   ]
  },
  {
   "cell_type": "markdown",
   "metadata": {},
   "source": [
    "- After the baseline test, we *expect* to see *around* a **240 ms** average saccadic latency, so our *observed* results will be the ASLs of every VNG examination after that (**215 ms, 197 ms, and 215 ms**). "
   ]
  },
  {
   "cell_type": "markdown",
   "metadata": {},
   "source": [
    "##### Step 4: Determine our *degrees of freedom*:"
   ]
  },
  {
   "cell_type": "markdown",
   "metadata": {},
   "source": [
    "- Degrees of freedom are a measure of the amount of variability involved in the research, driven by the amount of categories, variables, or frequencies that are being analyzed.\n",
    "\n",
    "- The equation for degrees of freedom is **Degrees of freedom = n - 1**, where \"n\" is equal to the number of categoeis, variables, or frequencies. \n",
    "\n",
    "- In our example, we have 3 observed averages, so **n = 3**. 3 - 1 = 2, so we have **2 degrees of freedom** in our experiment.\n",
    "\n",
    "- In the `chisquare` function from `scipy.stats`, these degrees of freedom will be automatically calculated for you, so for the sake of coding, degrees of freedom do not need to be calculated. This is, nonetheless, an important measure to have a basic understanding of, especially since degrees of freedom are frequently mentioned in statistics.\n",
    "\n",
    "- *NB: the `chisquare` function from `scipy.stats` has a `ddof` parameter. This stands for \"delta degrees of freedom\" and is set to a default value of `0`. After leaving this parameter at its default value of `0`, I have found that the `chiquare` method will still correctly calculate the degrees of freedom automically (whether they are 1, 2, etc.), still giving the correct answer. I have checked this several times via hand and web app calculation of p-values that are derived from the chi-squared value and the degrees of freedom.*"
   ]
  },
  {
   "cell_type": "markdown",
   "metadata": {},
   "source": [
    "##### Step 5: Choose a *significance* level:"
   ]
  },
  {
   "cell_type": "markdown",
   "metadata": {},
   "source": [
    "- A significance level determines how certain we want to be about our results.\n",
    "\n",
    "- Low significance levels correspond to a low probability that the empirical data occurred by chance, and vice versa.\n",
    "\n",
    "- Significance levels are notated as a decimal value (e.g. 0.01), and they can then be converted to the percent chance that random sampling would produce our observed results if there was no fundemental difference that had occurred. \n",
    "\n",
    "- For the sake of our example, we will choose a significance level of **0.05**, which follows scientific convention."
   ]
  },
  {
   "cell_type": "markdown",
   "metadata": {},
   "source": [
    "#### We are now ready to calculate our chi-squared value and our p-value, using the chisquare method from scipy.stats!\n"
   ]
  },
  {
   "cell_type": "markdown",
   "metadata": {},
   "source": [
    "First we `import` the `chisquare` function from `scipy.stats`."
   ]
  },
  {
   "cell_type": "code",
   "execution_count": 1,
   "metadata": {},
   "outputs": [],
   "source": [
    "from scipy.stats import chisquare"
   ]
  },
  {
   "cell_type": "markdown",
   "metadata": {},
   "source": [
    "The `chisquare` function takes several arguments. The basic and the full parameters of the method can be explored [here](https://docs.scipy.org/doc/scipy/reference/generated/scipy.stats.chisquare.html).\n",
    "\n",
    "Take a moment to familiarize yourself with the above link.\n",
    "\n",
    "For the sake of our purposes, we will only be inputting our observed and our expected results.\n",
    "\n",
    "Now, we will call our `chisquare` method, assigning it to the variables `chisq` and `p`."
   ]
  },
  {
   "cell_type": "code",
   "execution_count": 14,
   "metadata": {},
   "outputs": [
    {
     "name": "stdout",
     "output_type": "stream",
     "text": [
      "12.9125\n",
      "0.0015706747105439746\n"
     ]
    }
   ],
   "source": [
    "# The observed results are passed as an argument, in the form of a list.\n",
    "# The expected results are passed as a value of the keyword parameter `f_exp`.\n",
    "# Although 240 is the expected result of each of the 3 VNG tests, this only needs to be passed once, in this case.\n",
    "\n",
    "chisq, p = chisquare([215, 197, 215], f_exp=240)\n",
    "print(chisq)\n",
    "print(p)"
   ]
  },
  {
   "cell_type": "markdown",
   "metadata": {},
   "source": [
    "We have printed our chi-squared value (`chisq`) and our p-value (`p`)."
   ]
  },
  {
   "cell_type": "markdown",
   "metadata": {},
   "source": [
    "#### So is our p-value significant or not?"
   ]
  },
  {
   "cell_type": "markdown",
   "metadata": {},
   "source": [
    "We predetermined that our significance threshold would be **0.05**, so we can now compare our calculated p-value with our significance level to determine if our p-value is significant or not. \n",
    "\n",
    "Remember that if our p-value is below the significance level, then this denotes significance. \n",
    "\n",
    "Significance here means that our sampling of our patient's ASL (or any future random sampling of this patient's ASL) has a strong probability of representing a true change in brain function, as compared to baseline assessment levels. \n",
    "\n",
    "So, let's write a function to verify if the p-value that we received from the `chisquare` function is significant or not."
   ]
  },
  {
   "cell_type": "code",
   "execution_count": 15,
   "metadata": {},
   "outputs": [
    {
     "name": "stdout",
     "output_type": "stream",
     "text": [
      "The p-value of 0.00157067471054 is significant!\n"
     ]
    }
   ],
   "source": [
    "def significance(x):\n",
    "    if x < 0.05:\n",
    "        print('The p-value of {} is significant!'.format(p))\n",
    "    else:\n",
    "        print('The p-value of {} is not significant.'.format(p))\n",
    "    \n",
    "# Calling the significance function that we wrote, now with our p-value as the argument:\n",
    "significance(p)"
   ]
  },
  {
   "cell_type": "markdown",
   "metadata": {},
   "source": [
    "Now that we know that our p-value is significant, we can reject the null hypothesis and state that the patient's observed results reveal a true change in brain function.\n",
    "\n",
    "But, what is the probability that this change is truly accurate?\n",
    "\n",
    "We can calculate that by converting our p-value to a percent and then subtracting that from 100:"
   ]
  },
  {
   "cell_type": "code",
   "execution_count": 18,
   "metadata": {},
   "outputs": [
    {
     "name": "stdout",
     "output_type": "stream",
     "text": [
      "The probability that our ASLs reflect a true change in brain function is 99.8429325289%\n"
     ]
    }
   ],
   "source": [
    "hypothesis_prob = 100 - (p * 100)\n",
    "print('The probability that our ASLs reflect a true change in brain function is {}%'.format(hypothesis_prob))"
   ]
  },
  {
   "cell_type": "markdown",
   "metadata": {},
   "source": [
    "This example is a basic input into the function, but it can be useful for tracking statistically significant patient progress in the field of neurorehabilitation. Inter-patient data can be compared, but the example we used is an intra-patient investigation about the significance of change in saccadic latency, an important neuromarker of brain function, indicating if the patient's physiological improvement is statistically significant or not."
   ]
  },
  {
   "cell_type": "markdown",
   "metadata": {},
   "source": [
    "For a link on how to calculate a p-value using the actual chi-squared equation, go [here](https://www.wikihow.com/Calculate-P-Value)."
   ]
  },
  {
   "cell_type": "markdown",
   "metadata": {},
   "source": [
    "Here is an online p-value [calculator](http://www.socscistatistics.com/pvalues/chidistribution.aspx)."
   ]
  },
  {
   "cell_type": "markdown",
   "metadata": {},
   "source": [
    "Here is a chi-squared [statistical table](https://www.medcalc.org/manual/chi-square-table.php)."
   ]
  },
  {
   "cell_type": "markdown",
   "metadata": {},
   "source": [
    "##### Source:"
   ]
  },
  {
   "cell_type": "markdown",
   "metadata": {},
   "source": [
    "[https://www.wikihow.com/Calculate-P-Value](https://www.wikihow.com/Calculate-P-Value)"
   ]
  }
 ],
 "metadata": {
  "kernelspec": {
   "display_name": "Python 2",
   "language": "python",
   "name": "python2"
  },
  "language_info": {
   "codemirror_mode": {
    "name": "ipython",
    "version": 2
   },
   "file_extension": ".py",
   "mimetype": "text/x-python",
   "name": "python",
   "nbconvert_exporter": "python",
   "pygments_lexer": "ipython2",
   "version": "2.7.14"
  }
 },
 "nbformat": 4,
 "nbformat_minor": 2
}
